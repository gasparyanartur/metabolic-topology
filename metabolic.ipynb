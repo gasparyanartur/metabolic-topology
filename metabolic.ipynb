{
 "cells": [
  {
   "cell_type": "code",
   "execution_count": 9,
   "metadata": {},
   "outputs": [
    {
     "data": {
      "text/plain": [
       "{'Glucose': [('Glucose-6-phosphate', 'Hexokinase')],\n",
       " 'Glucose-6-phosphate': [('Fructose-6-phosphate', 'Phosphoglucose isomerase')],\n",
       " 'Fructose-6-phosphate': [('Fructose-1,6-phosphate', 'Phosphofructokinase 1')],\n",
       " 'Fructose-1,6-phosphate': [('Dihydroxyacetone phosphate', 'Aldolase'),\n",
       "  ('Glyceraldehyde 3-phosphate', 'Aldolase')],\n",
       " 'Dihydroxyacetone phosphate': [('Glyceraldehyde 3-phosphate',\n",
       "   'Triosephosephate isomerase')],\n",
       " 'Glyceraldehyde 3-phosphate': [('1,3-Bisphosphoglycerate',\n",
       "   'Glyceraldehyde 3-phosphate dehydrogenase')],\n",
       " '1,3-Bisphosphoglycerate': [('3-Phosphoglycerate',\n",
       "   'Phosphoglycerate kinase')],\n",
       " '3-Phosphoglycerate': [('2-Phosphoglycerate', 'Phosphoglyceromutase')],\n",
       " '2-Phosphoglycerate': [('Phosphoenolpyruvate', 'Enolase')],\n",
       " 'Phosphoenolpyruvate': [('Pyruvate', 'Pyruvate kinase')]}"
      ]
     },
     "execution_count": 9,
     "metadata": {},
     "output_type": "execute_result"
    }
   ],
   "source": [
    "import csv\n",
    "\n",
    "\n",
    "def read_graph(filename):\n",
    "     # Metabolyte -> (Metabolyte,Enzyme)\n",
    "    graph = {}  \n",
    "    with open(filename, \"r\") as f:\n",
    "        reader = csv.reader(f)\n",
    "        next(reader)            # skip header\n",
    "\n",
    "        for metabolyte_from, metabolyte_to, enzyme in reader:\n",
    "            if metabolyte_from in graph:\n",
    "                graph[metabolyte_from].append((metabolyte_to, enzyme))\n",
    "            else:\n",
    "                graph[metabolyte_from] = [(metabolyte_to, enzyme)]\n",
    "\n",
    "    return graph\n",
    "            \n",
    "\n",
    "filename = \"example_file.csv\"\n",
    "graph = read_graph(filename)\n",
    "graph"
   ]
  },
  {
   "cell_type": "code",
   "execution_count": 61,
   "metadata": {},
   "outputs": [
    {
     "data": {
      "text/plain": [
       "[[('Glucose', None), ('Glucose-6-phosphate', 'Hexokinase'), ('Fructose-6-phosphate', 'Phosphoglucose isomerase'), ('Fructose-1,6-phosphate', 'Phosphofructokinase 1'), ('Glyceraldehyde 3-phosphate', 'Aldolase'), ('1,3-Bisphosphoglycerate', 'Glyceraldehyde 3-phosphate dehydrogenase'), ('3-Phosphoglycerate', 'Phosphoglycerate kinase'), ('2-Phosphoglycerate', 'Phosphoglyceromutase'), ('Phosphoenolpyruvate', 'Enolase'), ('Pyruvate', 'Pyruvate kinase')],\n",
       " [('Glucose', None), ('Glucose-6-phosphate', 'Hexokinase'), ('Fructose-6-phosphate', 'Phosphoglucose isomerase'), ('Fructose-1,6-phosphate', 'Phosphofructokinase 1'), ('Dihydroxyacetone phosphate', 'Aldolase'), ('Glyceraldehyde 3-phosphate', 'Triosephosephate isomerase'), ('1,3-Bisphosphoglycerate', 'Glyceraldehyde 3-phosphate dehydrogenase'), ('3-Phosphoglycerate', 'Phosphoglycerate kinase'), ('2-Phosphoglycerate', 'Phosphoglyceromutase'), ('Phosphoenolpyruvate', 'Enolase'), ('Pyruvate', 'Pyruvate kinase')]]"
      ]
     },
     "execution_count": 61,
     "metadata": {},
     "output_type": "execute_result"
    }
   ],
   "source": [
    "class Path:\n",
    "    def __init__(self, entries=None) -> None:\n",
    "        self.entries = entries if (entries is not None) else []\n",
    "\n",
    "    def add_entry(self, node, enzyme):\n",
    "        self.entries.append((node, enzyme))\n",
    "\n",
    "    def  __repr__(self) -> str:\n",
    "        return repr(self.entries)\n",
    "\n",
    "\n",
    "def find_all_paths(graph, start_node, end_node):\n",
    "    paths = []\n",
    "\n",
    "    path_to_end = {}                       # The list of metabolytes that are known to lead to end node\n",
    "    visited = set()\n",
    "    start_path = Path(entries=[(start_node, None)])\n",
    "    frontier = [start_path]                   # Which nodes to visit next\n",
    "\n",
    "    while frontier:\n",
    "        path = frontier.pop()\n",
    "        node, enzyme = path.entries[-1]\n",
    "\n",
    "        if node == end_node:\n",
    "            curr_node, curr_enzyme = node, enzyme\n",
    "            for prev_node, prev_enzyme in reversed(path.entries[:-1]):\n",
    "                path_to_end[prev_node] = curr_node, curr_enzyme\n",
    "                curr_node, curr_enzyme = prev_node, prev_enzyme\n",
    "\n",
    "            paths.append(path)\n",
    "            continue\n",
    "\n",
    "        if node in visited:\n",
    "            continue\n",
    "\n",
    "        visited.add(node)\n",
    "\n",
    "        for (node_to, enzyme_to) in graph[node]:\n",
    "            if node_to in path_to_end:  # Node we are going towards is known to lead to end node -> this path goes to end node\n",
    "                for next_node, next_enzyme in path.entries:\n",
    "                    if next_node not in path_to_end:\n",
    "                        path_to_end[next_node] = next_node, next_enzyme\n",
    "\n",
    "                path.add_entry(node_to, enzyme_to)\n",
    "\n",
    "                curr_node, curr_enzyme = node_to, enzyme_to\n",
    "                while curr_node in path_to_end:\n",
    "                    next_node, next_enzyme = path_to_end[curr_node]\n",
    "                    path.add_entry(next_node, next_enzyme)\n",
    "                    curr_node, curr_enzyme = next_node, next_enzyme\n",
    "\n",
    "\n",
    "                paths.append(path)\n",
    "                continue\n",
    "\n",
    "            elif node_to in visited:    # Visited but not terminating -> We are headed to dead end\n",
    "                continue\n",
    "\n",
    "            new_path = Path(entries=path.entries.copy())\n",
    "            new_path.add_entry(node_to, enzyme_to)\n",
    "            frontier.append(new_path)\n",
    "\n",
    "    return paths\n",
    "\n",
    "start_metabolyte = \"Glucose\"\n",
    "end_metabolyte = \"Pyruvate\"\n",
    "all_paths = find_all_paths(graph, start_metabolyte, end_metabolyte)\n",
    "all_paths"
   ]
  },
  {
   "cell_type": "code",
   "execution_count": 81,
   "metadata": {},
   "outputs": [
    {
     "data": {
      "text/plain": [
       "{'Triosephosephate isomerase'}"
      ]
     },
     "execution_count": 81,
     "metadata": {},
     "output_type": "execute_result"
    }
   ],
   "source": [
    "def find_nonessential_enzymes_in_paths(paths):\n",
    "    enzymes = [set((enzyme for _, enzyme in path.entries)) for path in paths]\n",
    "    enzyme_intersection = enzymes[0].copy()\n",
    "    enzyme_union = enzymes[0].copy()\n",
    "\n",
    "    for enzyme in enzymes[1:]:\n",
    "        enzyme_intersection.intersection_update(enzyme)\n",
    "        enzyme_union.update(enzyme)\n",
    "\n",
    "    non_essentials = enzyme_union.difference(enzyme_intersection)\n",
    "    return non_essentials\n",
    "\n",
    "\n",
    "find_nonessential_enzymes_in_paths(all_paths)"
   ]
  },
  {
   "cell_type": "code",
   "execution_count": null,
   "metadata": {},
   "outputs": [],
   "source": []
  }
 ],
 "metadata": {
  "kernelspec": {
   "display_name": "Python 3",
   "language": "python",
   "name": "python3"
  },
  "language_info": {
   "codemirror_mode": {
    "name": "ipython",
    "version": 3
   },
   "file_extension": ".py",
   "mimetype": "text/x-python",
   "name": "python",
   "nbconvert_exporter": "python",
   "pygments_lexer": "ipython3",
   "version": "3.11.3"
  }
 },
 "nbformat": 4,
 "nbformat_minor": 2
}
